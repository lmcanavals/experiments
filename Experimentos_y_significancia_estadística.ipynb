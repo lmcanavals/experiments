{
  "nbformat": 4,
  "nbformat_minor": 0,
  "metadata": {
    "colab": {
      "name": "Experimentos y significancia estadística.ipynb",
      "provenance": [],
      "authorship_tag": "ABX9TyN+0FbhtzDNV9KI0BqU13IW",
      "include_colab_link": true
    },
    "kernelspec": {
      "name": "python3",
      "display_name": "Python 3"
    },
    "language_info": {
      "name": "python"
    }
  },
  "cells": [
    {
      "cell_type": "markdown",
      "metadata": {
        "id": "view-in-github",
        "colab_type": "text"
      },
      "source": [
        "<a href=\"https://colab.research.google.com/github/lmcanavals/experiments/blob/main/Experimentos_y_significancia_estad%C3%ADstica.ipynb\" target=\"_parent\"><img src=\"https://colab.research.google.com/assets/colab-badge.svg\" alt=\"Open In Colab\"/></a>"
      ]
    },
    {
      "cell_type": "markdown",
      "source": [
        "# Experimentos y test de significancia"
      ],
      "metadata": {
        "id": "Vfv8CQ-Hukfl"
      }
    },
    {
      "cell_type": "code",
      "execution_count": 1,
      "metadata": {
        "colab": {
          "base_uri": "https://localhost:8080/"
        },
        "id": "klHPPOSpe1hO",
        "outputId": "58eed124-61c7-49f1-a932-08c3bb8ce845"
      },
      "outputs": [
        {
          "output_type": "stream",
          "name": "stderr",
          "text": [
            "/usr/local/lib/python3.7/dist-packages/statsmodels/tools/_testing.py:19: FutureWarning: pandas.util.testing is deprecated. Use the functions in the public API at pandas.testing instead.\n",
            "  import pandas.util.testing as tm\n"
          ]
        }
      ],
      "source": [
        "import random\n",
        "\n",
        "import pandas as pd\n",
        "import numpy as np\n",
        "\n",
        "from scipy import stats\n",
        "import statsmodels.api as sm\n",
        "import statsmodels.formula.api as smf\n",
        "from statsmodels.stats import power\n",
        "\n",
        "import matplotlib.pylab as plt"
      ]
    },
    {
      "cell_type": "code",
      "source": [
        "session_times = pd.read_csv(\"https://raw.githubusercontent.com/lmcanavals/experiments/main/data/web_page_data.csv\")\n",
        "session_times['Time'] = 100 * session_times['Time']\n",
        "session_times.head()\n"
      ],
      "metadata": {
        "colab": {
          "base_uri": "https://localhost:8080/",
          "height": 206
        },
        "id": "OdxK6fc9u6zb",
        "outputId": "efba101e-800a-4a61-f68b-9c9356dfc607"
      },
      "execution_count": 2,
      "outputs": [
        {
          "output_type": "execute_result",
          "data": {
            "text/plain": [
              "     Page   Time\n",
              "0  Page A   21.0\n",
              "1  Page B  253.0\n",
              "2  Page A   35.0\n",
              "3  Page B   71.0\n",
              "4  Page A   67.0"
            ],
            "text/html": [
              "\n",
              "  <div id=\"df-b8d767a1-4f80-473f-8f1c-832696514b4f\">\n",
              "    <div class=\"colab-df-container\">\n",
              "      <div>\n",
              "<style scoped>\n",
              "    .dataframe tbody tr th:only-of-type {\n",
              "        vertical-align: middle;\n",
              "    }\n",
              "\n",
              "    .dataframe tbody tr th {\n",
              "        vertical-align: top;\n",
              "    }\n",
              "\n",
              "    .dataframe thead th {\n",
              "        text-align: right;\n",
              "    }\n",
              "</style>\n",
              "<table border=\"1\" class=\"dataframe\">\n",
              "  <thead>\n",
              "    <tr style=\"text-align: right;\">\n",
              "      <th></th>\n",
              "      <th>Page</th>\n",
              "      <th>Time</th>\n",
              "    </tr>\n",
              "  </thead>\n",
              "  <tbody>\n",
              "    <tr>\n",
              "      <th>0</th>\n",
              "      <td>Page A</td>\n",
              "      <td>21.0</td>\n",
              "    </tr>\n",
              "    <tr>\n",
              "      <th>1</th>\n",
              "      <td>Page B</td>\n",
              "      <td>253.0</td>\n",
              "    </tr>\n",
              "    <tr>\n",
              "      <th>2</th>\n",
              "      <td>Page A</td>\n",
              "      <td>35.0</td>\n",
              "    </tr>\n",
              "    <tr>\n",
              "      <th>3</th>\n",
              "      <td>Page B</td>\n",
              "      <td>71.0</td>\n",
              "    </tr>\n",
              "    <tr>\n",
              "      <th>4</th>\n",
              "      <td>Page A</td>\n",
              "      <td>67.0</td>\n",
              "    </tr>\n",
              "  </tbody>\n",
              "</table>\n",
              "</div>\n",
              "      <button class=\"colab-df-convert\" onclick=\"convertToInteractive('df-b8d767a1-4f80-473f-8f1c-832696514b4f')\"\n",
              "              title=\"Convert this dataframe to an interactive table.\"\n",
              "              style=\"display:none;\">\n",
              "        \n",
              "  <svg xmlns=\"http://www.w3.org/2000/svg\" height=\"24px\"viewBox=\"0 0 24 24\"\n",
              "       width=\"24px\">\n",
              "    <path d=\"M0 0h24v24H0V0z\" fill=\"none\"/>\n",
              "    <path d=\"M18.56 5.44l.94 2.06.94-2.06 2.06-.94-2.06-.94-.94-2.06-.94 2.06-2.06.94zm-11 1L8.5 8.5l.94-2.06 2.06-.94-2.06-.94L8.5 2.5l-.94 2.06-2.06.94zm10 10l.94 2.06.94-2.06 2.06-.94-2.06-.94-.94-2.06-.94 2.06-2.06.94z\"/><path d=\"M17.41 7.96l-1.37-1.37c-.4-.4-.92-.59-1.43-.59-.52 0-1.04.2-1.43.59L10.3 9.45l-7.72 7.72c-.78.78-.78 2.05 0 2.83L4 21.41c.39.39.9.59 1.41.59.51 0 1.02-.2 1.41-.59l7.78-7.78 2.81-2.81c.8-.78.8-2.07 0-2.86zM5.41 20L4 18.59l7.72-7.72 1.47 1.35L5.41 20z\"/>\n",
              "  </svg>\n",
              "      </button>\n",
              "      \n",
              "  <style>\n",
              "    .colab-df-container {\n",
              "      display:flex;\n",
              "      flex-wrap:wrap;\n",
              "      gap: 12px;\n",
              "    }\n",
              "\n",
              "    .colab-df-convert {\n",
              "      background-color: #E8F0FE;\n",
              "      border: none;\n",
              "      border-radius: 50%;\n",
              "      cursor: pointer;\n",
              "      display: none;\n",
              "      fill: #1967D2;\n",
              "      height: 32px;\n",
              "      padding: 0 0 0 0;\n",
              "      width: 32px;\n",
              "    }\n",
              "\n",
              "    .colab-df-convert:hover {\n",
              "      background-color: #E2EBFA;\n",
              "      box-shadow: 0px 1px 2px rgba(60, 64, 67, 0.3), 0px 1px 3px 1px rgba(60, 64, 67, 0.15);\n",
              "      fill: #174EA6;\n",
              "    }\n",
              "\n",
              "    [theme=dark] .colab-df-convert {\n",
              "      background-color: #3B4455;\n",
              "      fill: #D2E3FC;\n",
              "    }\n",
              "\n",
              "    [theme=dark] .colab-df-convert:hover {\n",
              "      background-color: #434B5C;\n",
              "      box-shadow: 0px 1px 3px 1px rgba(0, 0, 0, 0.15);\n",
              "      filter: drop-shadow(0px 1px 2px rgba(0, 0, 0, 0.3));\n",
              "      fill: #FFFFFF;\n",
              "    }\n",
              "  </style>\n",
              "\n",
              "      <script>\n",
              "        const buttonEl =\n",
              "          document.querySelector('#df-b8d767a1-4f80-473f-8f1c-832696514b4f button.colab-df-convert');\n",
              "        buttonEl.style.display =\n",
              "          google.colab.kernel.accessAllowed ? 'block' : 'none';\n",
              "\n",
              "        async function convertToInteractive(key) {\n",
              "          const element = document.querySelector('#df-b8d767a1-4f80-473f-8f1c-832696514b4f');\n",
              "          const dataTable =\n",
              "            await google.colab.kernel.invokeFunction('convertToInteractive',\n",
              "                                                     [key], {});\n",
              "          if (!dataTable) return;\n",
              "\n",
              "          const docLinkHtml = 'Like what you see? Visit the ' +\n",
              "            '<a target=\"_blank\" href=https://colab.research.google.com/notebooks/data_table.ipynb>data table notebook</a>'\n",
              "            + ' to learn more about interactive tables.';\n",
              "          element.innerHTML = '';\n",
              "          dataTable['output_type'] = 'display_data';\n",
              "          await google.colab.output.renderOutput(dataTable, element);\n",
              "          const docLink = document.createElement('div');\n",
              "          docLink.innerHTML = docLinkHtml;\n",
              "          element.appendChild(docLink);\n",
              "        }\n",
              "      </script>\n",
              "    </div>\n",
              "  </div>\n",
              "  "
            ]
          },
          "metadata": {},
          "execution_count": 2
        }
      ]
    },
    {
      "cell_type": "code",
      "source": [
        "ax = session_times.boxplot(by='Page', column='Time', figsize=(5, 5))\n",
        "ax.set_xlabel('')\n",
        "ax.set_ylabel('Tiempo (en segundos)')\n",
        "plt.suptitle('')\n",
        "\n",
        "plt.show()"
      ],
      "metadata": {
        "colab": {
          "base_uri": "https://localhost:8080/",
          "height": 391
        },
        "id": "IvzGDOcCvsU0",
        "outputId": "ee5de3ec-98d2-4b2f-a1a8-bc1b4cbbdc1c"
      },
      "execution_count": 3,
      "outputs": [
        {
          "output_type": "stream",
          "name": "stderr",
          "text": [
            "/usr/local/lib/python3.7/dist-packages/matplotlib/cbook/__init__.py:1376: VisibleDeprecationWarning: Creating an ndarray from ragged nested sequences (which is a list-or-tuple of lists-or-tuples-or ndarrays with different lengths or shapes) is deprecated. If you meant to do this, you must specify 'dtype=object' when creating the ndarray.\n",
            "  X = np.atleast_1d(X.T if isinstance(X, np.ndarray) else np.asarray(X))\n"
          ]
        },
        {
          "output_type": "display_data",
          "data": {
            "text/plain": [
              "<Figure size 360x360 with 1 Axes>"
            ],
            "image/png": "[encoded data removed]"
          },
          "metadata": {
            "needs_background": "light"
          }
        }
      ]
    },
    {
      "cell_type": "code",
      "source": [
        "mean_a = session_times[session_times['Page'] == 'Page A']['Time'].mean()\n",
        "mean_b = session_times[session_times['Page'] == 'Page B']['Time'].mean()\n",
        "print(mean_b - mean_a)"
      ],
      "metadata": {
        "colab": {
          "base_uri": "https://localhost:8080/"
        },
        "id": "19SvKSvzwGKJ",
        "outputId": "827a24f6-40a9-44e7-d879-a52ab0abac94"
      },
      "execution_count": 5,
      "outputs": [
        {
          "output_type": "stream",
          "name": "stdout",
          "text": [
            "35.66666666666667\n"
          ]
        }
      ]
    },
    {
      "cell_type": "code",
      "source": [
        "def perm_fun(x, nA, nB):\n",
        "  n = nA + nB\n",
        "  idx_B = set(random.sample(range(n), nB))\n",
        "  idx_A = set(range(n)) - idx_B\n",
        "  return x.loc[idx_B].mean() - x.loc[idx_A].mean()\n",
        "\n",
        "nA = session_times[session_times['Page'] == 'Page A'].shape[0]\n",
        "nB = session_times[session_times['Page'] == 'Page B'].shape[0]\n",
        "print(perm_fun(session_times['Time'], nA, nB))"
      ],
      "metadata": {
        "colab": {
          "base_uri": "https://localhost:8080/"
        },
        "id": "NDhfwnRNwiBf",
        "outputId": "0030e8df-e275-446d-f60f-fe5593f97cce"
      },
      "execution_count": 7,
      "outputs": [
        {
          "output_type": "stream",
          "name": "stdout",
          "text": [
            "-9.133333333333326\n"
          ]
        }
      ]
    },
    {
      "cell_type": "code",
      "source": [
        "random.seed(1)\n",
        "perm_diffs = [perm_fun(session_times['Time'], nA, nB) for _ in range(1000)]\n",
        "\n",
        "fig, ax = plt.subplots(figsize=(6, 6))\n",
        "ax.hist(perm_diffs, bins=11, rwidth=0.9)\n",
        "ax.axvline(x = mean_b - mean_a, color=\"black\", lw=2)\n",
        "ax.text(50, 190, 'Observed\\ndifference', bbox={'facecolor': 'white'})\n",
        "ax.set_xlabel('Diferencias de tiempo (segundos)')\n",
        "ax.set_ylabel('Frecuencia')\n",
        "\n",
        "plt.show()"
      ],
      "metadata": {
        "colab": {
          "base_uri": "https://localhost:8080/",
          "height": 388
        },
        "id": "atUxOk5RxWK6",
        "outputId": "8e99691f-c4b3-4587-aecc-e9042113c1ab"
      },
      "execution_count": 8,
      "outputs": [
        {
          "output_type": "display_data",
          "data": {
            "text/plain": [
              "<Figure size 432x432 with 1 Axes>"
            ],
            "image/png": "[encoded data removed]"
          },
          "metadata": {
            "needs_background": "light"
          }
        }
      ]
    },
    {
      "cell_type": "markdown",
      "source": [
        "# P-values"
      ],
      "metadata": {
        "id": "0MqJyOTL5FS-"
      }
    },
    {
      "cell_type": "code",
      "source": [
        "random.seed(1)\n",
        "obs_pct_diff = 100 * (200 / 23739 - 182 / 22588)\n",
        "print(f\"Diferencia observada: {obs_pct_diff:.4f}%\")\n",
        "conversion = [0] * 45945\n",
        "conversion.extend([1] * 382)\n",
        "conversion = pd.Series(conversion)\n",
        "\n",
        "perm_diffs = [100 * perm_fun(conversion, 23739, 22588) for _ in range(1000)]\n",
        "\n",
        "fig, ax = plt.subplots(figsize=(6, 6))\n",
        "ax.hist(perm_diffs, bins=11, rwidth=0.9)\n",
        "ax.axvline(x=obs_pct_diff, color=\"black\", lw=2)\n",
        "ax.text(0.06, 200, 'Observed\\ndifference', bbox={'facecolor': 'white'})\n",
        "ax.set_xlabel('Ratio de conversión (%)')\n",
        "ax.set_ylabel('Frecuencia')\n",
        "\n",
        "plt.show()"
      ],
      "metadata": {
        "colab": {
          "base_uri": "https://localhost:8080/",
          "height": 409
        },
        "id": "OHn-l4aA4QQB",
        "outputId": "7fb5e2cc-a196-4a61-fa4b-c78112778021"
      },
      "execution_count": 10,
      "outputs": [
        {
          "output_type": "stream",
          "name": "stdout",
          "text": [
            "Diferencia observada: 0.0368\n"
          ]
        },
        {
          "output_type": "display_data",
          "data": {
            "text/plain": [
              "<Figure size 432x432 with 1 Axes>"
            ],
            "image/png": "[encoded data removed]"
          },
          "metadata": {
            "needs_background": "light"
          }
        }
      ]
    },
    {
      "cell_type": "code",
      "source": [
        "survivors = np.array([[200, 23539], [182, 22406]])\n",
        "chi2, p_value, df, _ = stats.chi2_contingency(survivors)\n",
        "\n",
        "print(f\"p_value for single sided test: {p_value / 2:.4f}\")"
      ],
      "metadata": {
        "colab": {
          "base_uri": "https://localhost:8080/"
        },
        "id": "FJAmbWFZ8aqd",
        "outputId": "d3f4faf4-2af7-4e68-823e-7b3ef1ebbb59"
      },
      "execution_count": 11,
      "outputs": [
        {
          "output_type": "stream",
          "name": "stdout",
          "text": [
            "p_value for single sided test: 0.3498\n"
          ]
        }
      ]
    },
    {
      "cell_type": "markdown",
      "source": [
        "# t-Tests"
      ],
      "metadata": {
        "id": "r4G7mfGE9-hX"
      }
    },
    {
      "cell_type": "code",
      "source": [
        "res = stats.ttest_ind(session_times[session_times['Page'] == 'Page A']['Time'],\n",
        "                      session_times[session_times['Page'] == 'Page B']['Time'],\n",
        "                      equal_var=False)\n",
        "print(f\"p-value for singe sided test: {res.pvalue / 2:.4f}\")"
      ],
      "metadata": {
        "colab": {
          "base_uri": "https://localhost:8080/"
        },
        "id": "PWGWT3Ju9NJz",
        "outputId": "f06edeef-89a0-4826-8f70-0817c17d9617"
      },
      "execution_count": 12,
      "outputs": [
        {
          "output_type": "stream",
          "name": "stdout",
          "text": [
            "p-value for singe sided test: 0.1408\n"
          ]
        }
      ]
    },
    {
      "cell_type": "markdown",
      "source": [
        "# Anova"
      ],
      "metadata": {
        "id": "9iXD0usPChH4"
      }
    },
    {
      "cell_type": "code",
      "source": [
        "four_sessions = pd.read_csv('https://raw.githubusercontent.com/lmcanavals/experiments/main/data/four_sessions.csv')\n",
        "four_sessions.head()"
      ],
      "metadata": {
        "colab": {
          "base_uri": "https://localhost:8080/",
          "height": 206
        },
        "id": "ceuAP1Wx-hvg",
        "outputId": "56447b5e-f2dd-40f3-9ead-99c2116366df"
      },
      "execution_count": 13,
      "outputs": [
        {
          "output_type": "execute_result",
          "data": {
            "text/plain": [
              "     Page  Time\n",
              "0  Page 1   164\n",
              "1  Page 2   178\n",
              "2  Page 3   175\n",
              "3  Page 4   155\n",
              "4  Page 1   172"
            ],
            "text/html": [
              "\n",
              "  <div id=\"df-505bcde7-45b9-4e83-a7cf-9c4e2ee33c40\">\n",
              "    <div class=\"colab-df-container\">\n",
              "      <div>\n",
              "<style scoped>\n",
              "    .dataframe tbody tr th:only-of-type {\n",
              "        vertical-align: middle;\n",
              "    }\n",
              "\n",
              "    .dataframe tbody tr th {\n",
              "        vertical-align: top;\n",
              "    }\n",
              "\n",
              "    .dataframe thead th {\n",
              "        text-align: right;\n",
              "    }\n",
              "</style>\n",
              "<table border=\"1\" class=\"dataframe\">\n",
              "  <thead>\n",
              "    <tr style=\"text-align: right;\">\n",
              "      <th></th>\n",
              "      <th>Page</th>\n",
              "      <th>Time</th>\n",
              "    </tr>\n",
              "  </thead>\n",
              "  <tbody>\n",
              "    <tr>\n",
              "      <th>0</th>\n",
              "      <td>Page 1</td>\n",
              "      <td>164</td>\n",
              "    </tr>\n",
              "    <tr>\n",
              "      <th>1</th>\n",
              "      <td>Page 2</td>\n",
              "      <td>178</td>\n",
              "    </tr>\n",
              "    <tr>\n",
              "      <th>2</th>\n",
              "      <td>Page 3</td>\n",
              "      <td>175</td>\n",
              "    </tr>\n",
              "    <tr>\n",
              "      <th>3</th>\n",
              "      <td>Page 4</td>\n",
              "      <td>155</td>\n",
              "    </tr>\n",
              "    <tr>\n",
              "      <th>4</th>\n",
              "      <td>Page 1</td>\n",
              "      <td>172</td>\n",
              "    </tr>\n",
              "  </tbody>\n",
              "</table>\n",
              "</div>\n",
              "      <button class=\"colab-df-convert\" onclick=\"convertToInteractive('df-505bcde7-45b9-4e83-a7cf-9c4e2ee33c40')\"\n",
              "              title=\"Convert this dataframe to an interactive table.\"\n",
              "              style=\"display:none;\">\n",
              "        \n",
              "  <svg xmlns=\"http://www.w3.org/2000/svg\" height=\"24px\"viewBox=\"0 0 24 24\"\n",
              "       width=\"24px\">\n",
              "    <path d=\"M0 0h24v24H0V0z\" fill=\"none\"/>\n",
              "    <path d=\"M18.56 5.44l.94 2.06.94-2.06 2.06-.94-2.06-.94-.94-2.06-.94 2.06-2.06.94zm-11 1L8.5 8.5l.94-2.06 2.06-.94-2.06-.94L8.5 2.5l-.94 2.06-2.06.94zm10 10l.94 2.06.94-2.06 2.06-.94-2.06-.94-.94-2.06-.94 2.06-2.06.94z\"/><path d=\"M17.41 7.96l-1.37-1.37c-.4-.4-.92-.59-1.43-.59-.52 0-1.04.2-1.43.59L10.3 9.45l-7.72 7.72c-.78.78-.78 2.05 0 2.83L4 21.41c.39.39.9.59 1.41.59.51 0 1.02-.2 1.41-.59l7.78-7.78 2.81-2.81c.8-.78.8-2.07 0-2.86zM5.41 20L4 18.59l7.72-7.72 1.47 1.35L5.41 20z\"/>\n",
              "  </svg>\n",
              "      </button>\n",
              "      \n",
              "  <style>\n",
              "    .colab-df-container {\n",
              "      display:flex;\n",
              "      flex-wrap:wrap;\n",
              "      gap: 12px;\n",
              "    }\n",
              "\n",
              "    .colab-df-convert {\n",
              "      background-color: #E8F0FE;\n",
              "      border: none;\n",
              "      border-radius: 50%;\n",
              "      cursor: pointer;\n",
              "      display: none;\n",
              "      fill: #1967D2;\n",
              "      height: 32px;\n",
              "      padding: 0 0 0 0;\n",
              "      width: 32px;\n",
              "    }\n",
              "\n",
              "    .colab-df-convert:hover {\n",
              "      background-color: #E2EBFA;\n",
              "      box-shadow: 0px 1px 2px rgba(60, 64, 67, 0.3), 0px 1px 3px 1px rgba(60, 64, 67, 0.15);\n",
              "      fill: #174EA6;\n",
              "    }\n",
              "\n",
              "    [theme=dark] .colab-df-convert {\n",
              "      background-color: #3B4455;\n",
              "      fill: #D2E3FC;\n",
              "    }\n",
              "\n",
              "    [theme=dark] .colab-df-convert:hover {\n",
              "      background-color: #434B5C;\n",
              "      box-shadow: 0px 1px 3px 1px rgba(0, 0, 0, 0.15);\n",
              "      filter: drop-shadow(0px 1px 2px rgba(0, 0, 0, 0.3));\n",
              "      fill: #FFFFFF;\n",
              "    }\n",
              "  </style>\n",
              "\n",
              "      <script>\n",
              "        const buttonEl =\n",
              "          document.querySelector('#df-505bcde7-45b9-4e83-a7cf-9c4e2ee33c40 button.colab-df-convert');\n",
              "        buttonEl.style.display =\n",
              "          google.colab.kernel.accessAllowed ? 'block' : 'none';\n",
              "\n",
              "        async function convertToInteractive(key) {\n",
              "          const element = document.querySelector('#df-505bcde7-45b9-4e83-a7cf-9c4e2ee33c40');\n",
              "          const dataTable =\n",
              "            await google.colab.kernel.invokeFunction('convertToInteractive',\n",
              "                                                     [key], {});\n",
              "          if (!dataTable) return;\n",
              "\n",
              "          const docLinkHtml = 'Like what you see? Visit the ' +\n",
              "            '<a target=\"_blank\" href=https://colab.research.google.com/notebooks/data_table.ipynb>data table notebook</a>'\n",
              "            + ' to learn more about interactive tables.';\n",
              "          element.innerHTML = '';\n",
              "          dataTable['output_type'] = 'display_data';\n",
              "          await google.colab.output.renderOutput(dataTable, element);\n",
              "          const docLink = document.createElement('div');\n",
              "          docLink.innerHTML = docLinkHtml;\n",
              "          element.appendChild(docLink);\n",
              "        }\n",
              "      </script>\n",
              "    </div>\n",
              "  </div>\n",
              "  "
            ]
          },
          "metadata": {},
          "execution_count": 13
        }
      ]
    },
    {
      "cell_type": "code",
      "source": [
        "ax = four_sessions.boxplot(by=\"Page\", column=\"Time\", figsize=(5, 5))\n",
        "ax.set_xlabel('Page')\n",
        "ax.set_ylabel('Time (seconds)')\n",
        "plt.suptitle(\"\")\n",
        "plt.title(\"\")\n",
        "\n",
        "plt.show()"
      ],
      "metadata": {
        "colab": {
          "base_uri": "https://localhost:8080/",
          "height": 332
        },
        "id": "i_ctT0kRCxfU",
        "outputId": "01b10d00-3646-4205-8dd8-7c2a49f2ced7"
      },
      "execution_count": 14,
      "outputs": [
        {
          "output_type": "display_data",
          "data": {
            "text/plain": [
              "<Figure size 360x360 with 1 Axes>"
            ],
            "image/png": "[encoded data removed]"
          },
          "metadata": {
            "needs_background": "light"
          }
        }
      ]
    },
    {
      "cell_type": "code",
      "source": [
        "observed_variance = four_sessions.groupby('Page').mean().var()[0]\n",
        "\n",
        "print(\"Observed means:\", four_sessions.groupby('Page').mean().values.ravel())\n",
        "print('Variance:', observed_variance)"
      ],
      "metadata": {
        "colab": {
          "base_uri": "https://localhost:8080/"
        },
        "id": "0FlTdaTpDB6U",
        "outputId": "eccad8e4-379a-42d1-cd62-cb0db295b65c"
      },
      "execution_count": 16,
      "outputs": [
        {
          "output_type": "stream",
          "name": "stdout",
          "text": [
            "Observed means: [172.8 182.6 175.6 164.6]\n",
            "Variance: 55.426666666666655\n"
          ]
        }
      ]
    },
    {
      "cell_type": "code",
      "source": [
        "def perm_test(df):\n",
        "  df = df.copy()\n",
        "  df['Time'] = np.random.permutation(df['Time'].values)\n",
        "  return df.groupby('Page').mean().var()[0]\n",
        "\n",
        "print(perm_test(four_sessions))"
      ],
      "metadata": {
        "colab": {
          "base_uri": "https://localhost:8080/"
        },
        "id": "xuj0mGFXD20O",
        "outputId": "4bb6be9a-7794-4d4c-f29f-4662268f9a1e"
      },
      "execution_count": 17,
      "outputs": [
        {
          "output_type": "stream",
          "name": "stdout",
          "text": [
            "43.9066666666667\n"
          ]
        }
      ]
    },
    {
      "cell_type": "code",
      "source": [
        "random.seed(1)\n",
        "perm_variance = [perm_test(four_sessions) for _ in range(3000)]\n",
        "print('Pr(Prob)', np.mean([var > observed_variance for var in perm_variance]))"
      ],
      "metadata": {
        "colab": {
          "base_uri": "https://localhost:8080/"
        },
        "id": "Aczh3ar8EUC3",
        "outputId": "55b2ac07-bcc8-4d2b-f2e0-ca70b7af73c9"
      },
      "execution_count": 18,
      "outputs": [
        {
          "output_type": "stream",
          "name": "stdout",
          "text": [
            "Pr(Prob) 0.08066666666666666\n"
          ]
        }
      ]
    },
    {
      "cell_type": "code",
      "source": [
        "fig, ax = plt.subplots(figsize=(6, 6))\n",
        "ax.hist(perm_variance, bins=11, rwidth=0.9)\n",
        "ax.axvline(x=observed_variance, color='black', lw=2)\n",
        "ax.text(60, 200, 'Observed\\nvariance', bbox={'facecolor': 'orange'})\n",
        "ax.set_xlabel('Varianza')\n",
        "ax.set_ylabel('Frecuencia')\n",
        "\n",
        "plt.show()"
      ],
      "metadata": {
        "colab": {
          "base_uri": "https://localhost:8080/",
          "height": 388
        },
        "id": "wYW4S8LBEqVl",
        "outputId": "5edae172-173f-4d3e-a6f3-e42779fbb358"
      },
      "execution_count": 20,
      "outputs": [
        {
          "output_type": "display_data",
          "data": {
            "text/plain": [
              "<Figure size 432x432 with 1 Axes>"
            ],
            "image/png": "[encoded data removed]"
          },
          "metadata": {
            "needs_background": "light"
          }
        }
      ]
    },
    {
      "cell_type": "markdown",
      "source": [
        "# F-statistic"
      ],
      "metadata": {
        "id": "aUuf59KKGKkJ"
      }
    },
    {
      "cell_type": "code",
      "source": [
        "model = smf.ols('Time ~ Page', data=four_sessions).fit()\n",
        "                \n",
        "aov_table = sm.stats.anova_lm(model)\n",
        "print(aov_table)"
      ],
      "metadata": {
        "colab": {
          "base_uri": "https://localhost:8080/"
        },
        "id": "3QlNEl5yF4hZ",
        "outputId": "02c93c6c-f13f-4d2d-c543-f956fcb8715b"
      },
      "execution_count": 22,
      "outputs": [
        {
          "output_type": "stream",
          "name": "stdout",
          "text": [
            "            df  sum_sq     mean_sq         F    PR(>F)\n",
            "Page       3.0   831.4  277.133333  2.739825  0.077586\n",
            "Residual  16.0  1618.4  101.150000       NaN       NaN\n"
          ]
        }
      ]
    },
    {
      "cell_type": "code",
      "source": [
        ""
      ],
      "metadata": {
        "id": "trw4rTB5GbcU"
      },
      "execution_count": null,
      "outputs": []
    }
  ]
}