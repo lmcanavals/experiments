{
  "nbformat": 4,
  "nbformat_minor": 0,
  "metadata": {
    "colab": {
      "name": "ab_statistical_expeimentation_anova.ipynb",
      "provenance": [],
      "authorship_tag": "ABX9TyMK9vnmoVJh0RIk3JwoiHYS",
      "include_colab_link": true
    },
    "kernelspec": {
      "name": "python3",
      "display_name": "Python 3"
    },
    "language_info": {
      "name": "python"
    }
  },
  "cells": [
    {
      "cell_type": "markdown",
      "metadata": {
        "id": "view-in-github",
        "colab_type": "text"
      },
      "source": [
        "<a href=\"https://colab.research.google.com/github/lmcanavals/experiments/blob/main/notebooks/ab_statistical_expeimentation_anova.ipynb\" target=\"_parent\"><img src=\"https://colab.research.google.com/assets/colab-badge.svg\" alt=\"Open In Colab\"/></a>"
      ]
    },
    {
      "cell_type": "markdown",
      "metadata": {
        "id": "s0uTdx9oDN-8"
      },
      "source": [
        "# Experimentos Estadísticos y Prueba de Significancia"
      ]
    },
    {
      "cell_type": "code",
      "metadata": {
        "colab": {
          "base_uri": "https://localhost:8080/"
        },
        "id": "DMrT8SOHDIF4",
        "outputId": "8440a794-3474-407e-a7a7-29c31dbe4478"
      },
      "source": [
        "import random\n",
        "\n",
        "import pandas as pd\n",
        "import numpy as np\n",
        "\n",
        "from scipy import stats\n",
        "import statsmodels.api as sm\n",
        "import statsmodels.formula.api as smf\n",
        "from statsmodels.stats import power\n",
        "\n",
        "import matplotlib.pylab as plt"
      ],
      "execution_count": 1,
      "outputs": [
        {
          "output_type": "stream",
          "text": [
            "/usr/local/lib/python3.7/dist-packages/statsmodels/tools/_testing.py:19: FutureWarning: pandas.util.testing is deprecated. Use the functions in the public API at pandas.testing instead.\n",
            "  import pandas.util.testing as tm\n"
          ],
          "name": "stderr"
        }
      ]
    },
    {
      "cell_type": "code",
      "metadata": {
        "id": "c4eFF6PhEHNB"
      },
      "source": [
        "BASE=\"https://raw.githubusercontent.com/lmcanavals/practical-statistics-for-data-scientists/master/data/\"\n",
        "WEB_PAGE_DATA_CSV   = f\"{BASE}web_page_data.csv\"\n",
        "FOUR_SESSION_CSV    = f\"{BASE}four_sessions.csv\"\n",
        "CLICK_RATE_CSV      = f\"{BASE}click_rates.csv\"\n",
        "IMANISHI_CSV        = f\"{BASE}imanishi_data.csv\""
      ],
      "execution_count": 3,
      "outputs": []
    },
    {
      "cell_type": "markdown",
      "metadata": {
        "id": "lKg1YpByFJ21"
      },
      "source": [
        "## Muestreo"
      ]
    },
    {
      "cell_type": "code",
      "metadata": {
        "id": "4CnbJB7tExMY"
      },
      "source": [
        "session_times = pd.read_csv(WEB_PAGE_DATA_CSV)\n",
        "session_times.Time = 100 * session_times.Time"
      ],
      "execution_count": 4,
      "outputs": []
    },
    {
      "cell_type": "code",
      "metadata": {
        "colab": {
          "base_uri": "https://localhost:8080/",
          "height": 660
        },
        "id": "X3wpTDMMFXnZ",
        "outputId": "091df9d2-cdfa-41bc-aa5f-f3b2caafe25e"
      },
      "source": [
        "ax = session_times.boxplot(by=\"Page\", column=\"Time\", figsize=(10, 10))\n",
        "ax.set_xlabel('')\n",
        "ax.set_ylabel('Time (in seconds)')\n",
        "plt.suptitle('')\n",
        "\n",
        "plt.show()"
      ],
      "execution_count": 15,
      "outputs": [
        {
          "output_type": "stream",
          "text": [
            "/usr/local/lib/python3.7/dist-packages/numpy/core/_asarray.py:83: VisibleDeprecationWarning: Creating an ndarray from ragged nested sequences (which is a list-or-tuple of lists-or-tuples-or ndarrays with different lengths or shapes) is deprecated. If you meant to do this, you must specify 'dtype=object' when creating the ndarray\n",
            "  return array(a, dtype, copy=False, order=order)\n"
          ],
          "name": "stderr"
        },
        {
          "output_type": "display_data",
          "data": {
            "image/png": "[encoded data removed]",
            "text/plain": [
              "<Figure size 720x720 with 1 Axes>"
            ]
          },
          "metadata": {
            "tags": [],
            "needs_background": "light"
          }
        }
      ]
    },
    {
      "cell_type": "code",
      "metadata": {
        "colab": {
          "base_uri": "https://localhost:8080/"
        },
        "id": "NqCqCSdmFsWJ",
        "outputId": "89207c62-bc96-476f-8900-078a72fb3997"
      },
      "source": [
        "mean_a = session_times[session_times['Page'] == 'Page A']['Time'].mean()\n",
        "mean_b = session_times[session_times['Page'] == 'Page B']['Time'].mean()\n",
        "print(mean_b - mean_a)"
      ],
      "execution_count": 7,
      "outputs": [
        {
          "output_type": "stream",
          "text": [
            "35.66666666666667\n"
          ],
          "name": "stdout"
        }
      ]
    },
    {
      "cell_type": "code",
      "metadata": {
        "colab": {
          "base_uri": "https://localhost:8080/"
        },
        "id": "ubCWHSxaHec3",
        "outputId": "80d8a68d-591e-4d7d-f67a-4071c0a25986"
      },
      "source": [
        "def perm_fun(x, nA, nB):\n",
        "    n = nA + nB\n",
        "    idx_B = set(random.sample(range(n), nB))\n",
        "    idx_A = set(range(n)) - idx_B\n",
        "    return x.loc[idx_B].mean() - x.loc[idx_A].mean()\n",
        "\n",
        "nA = session_times[session_times['Page'] == 'Page A']['Time'].shape[0]\n",
        "nB = session_times[session_times['Page'] == 'Page B']['Time'].shape[0]\n",
        "print(perm_fun(session_times['Time'], nA, nB))"
      ],
      "execution_count": 14,
      "outputs": [
        {
          "output_type": "stream",
          "text": [
            "6.523809523809518\n"
          ],
          "name": "stdout"
        }
      ]
    },
    {
      "cell_type": "code",
      "metadata": {
        "colab": {
          "base_uri": "https://localhost:8080/",
          "height": 617
        },
        "id": "sOhUGgwLIXZ7",
        "outputId": "99d213d3-c99d-4817-fd66-dc1b34c42f5d"
      },
      "source": [
        "random.seed(1981)\n",
        "perm_diffs = [perm_fun(session_times['Time'], nA, nB) for _ in range(1000)]\n",
        "\n",
        "fig, ax = plt.subplots(figsize=(10, 10))\n",
        "ax.hist(perm_diffs, bins=11, rwidth=0.9)\n",
        "ax.axvline(x = mean_b - mean_a, color='black', lw=2)\n",
        "ax.text(50, 190, 'Diferencia\\nobservada', bbox={'facecolor':'white'})\n",
        "ax.set_xlabel('Diferencias de tiempos de sesión (in seconds)')\n",
        "ax.set_ylabel('Frecuencia')\n",
        "\n",
        "plt.show()"
      ],
      "execution_count": 20,
      "outputs": [
        {
          "output_type": "display_data",
          "data": {
            "image/png": "[encoded data removed]",
            "text/plain": [
              "<Figure size 720x720 with 1 Axes>"
            ]
          },
          "metadata": {
            "tags": [],
            "needs_background": "light"
          }
        }
      ]
    },
    {
      "cell_type": "markdown",
      "metadata": {
        "id": "OKiVND9DL4ZJ"
      },
      "source": [
        "## Significancia Estadística y P-values"
      ]
    },
    {
      "cell_type": "markdown",
      "metadata": {
        "id": "9ZU0IbvpNfDR"
      },
      "source": [
        "Outcome | Price A | Price B\n",
        "-|-|-\n",
        "Conversion| 200 | 182\n",
        "No Conversion | 23539 | 22406"
      ]
    },
    {
      "cell_type": "code",
      "metadata": {
        "colab": {
          "base_uri": "https://localhost:8080/",
          "height": 624
        },
        "id": "crlP4_DuKTIq",
        "outputId": "058c6bb6-458f-40cf-a030-0139af9049cd"
      },
      "source": [
        "random.seed(1981)\n",
        "obs_pct_diff = 100 * (200 / 23739 - 182 / 22588)\n",
        "print(f\"Diferencia observada: {obs_pct_diff:.4f}\")\n",
        "conversion = [0]*45945\n",
        "conversion.extend([1]*382)\n",
        "conversion = pd.Series(conversion)\n",
        "\n",
        "perm_diffs = [100 * perm_fun(conversion, 23739, 22588) for _ in range(1000)]\n",
        "\n",
        "fig, ax = plt.subplots(figsize=(10, 10))\n",
        "ax.hist(perm_diffs, bins=11, rwidth=0.9)\n",
        "ax.axvline(x = obs_pct_diff, color='black', lw=2)\n",
        "ax.text(0.06, 200, 'Diferencia\\nobservada', bbox={'facecolor':'white'})\n",
        "ax.set_xlabel('Ratio de conversión (%)')\n",
        "ax.set_ylabel('Frecuencia')\n",
        "\n",
        "plt.show()"
      ],
      "execution_count": 24,
      "outputs": [
        {
          "output_type": "stream",
          "text": [
            "Diferencia observada: 0.0368\n"
          ],
          "name": "stdout"
        },
        {
          "output_type": "display_data",
          "data": {
            "image/png": "[encoded data removed]",
            "text/plain": [
              "<Figure size 720x720 with 1 Axes>"
            ]
          },
          "metadata": {
            "tags": [],
            "needs_background": "light"
          }
        }
      ]
    },
    {
      "cell_type": "markdown",
      "metadata": {
        "id": "gktEIByjPLfC"
      },
      "source": [
        "### P-Value"
      ]
    },
    {
      "cell_type": "code",
      "metadata": {
        "colab": {
          "base_uri": "https://localhost:8080/"
        },
        "id": "_7Ytdi9kOgsy",
        "outputId": "88e6cf56-d2c4-4321-f69a-55b2a2beca0b"
      },
      "source": [
        "print(np.mean([diff > obs_pct_diff for diff in perm_diffs]))"
      ],
      "execution_count": 25,
      "outputs": [
        {
          "output_type": "stream",
          "text": [
            "0.358\n"
          ],
          "name": "stdout"
        }
      ]
    },
    {
      "cell_type": "code",
      "metadata": {
        "colab": {
          "base_uri": "https://localhost:8080/"
        },
        "id": "ptQ_IavUPF8X",
        "outputId": "7fa2f97c-262d-426a-9438-7c962b44b8d1"
      },
      "source": [
        "survivors = np.array([[200, 23739 - 200], [182, 22588 - 182]])\n",
        "chi2, p_value, df, _ = stats.chi2_contingency(survivors)\n",
        "\n",
        "print(f\"p_value para una prueba de un solo lado: {p_value / 2:.4f}\")"
      ],
      "execution_count": 26,
      "outputs": [
        {
          "output_type": "stream",
          "text": [
            "p_value para una prueba de un solo lado: 0.3498\n"
          ],
          "name": "stdout"
        }
      ]
    },
    {
      "cell_type": "markdown",
      "metadata": {
        "id": "rUT4h8nEQeQB"
      },
      "source": [
        "Asumiendo un alpha de 5%, como nuestro resultado tuvo un P-value de 34.98%, podemos decir que es estadisticamente significativo."
      ]
    },
    {
      "cell_type": "markdown",
      "metadata": {
        "id": "4jv2mCzAQxfn"
      },
      "source": [
        "## t-Test"
      ]
    },
    {
      "cell_type": "code",
      "metadata": {
        "colab": {
          "base_uri": "https://localhost:8080/"
        },
        "id": "zT_3KN-dPjQ5",
        "outputId": "53feb41f-da2d-4864-fac6-5a977bedb133"
      },
      "source": [
        "res = stats.ttest_ind(session_times[session_times['Page'] == 'Page A']['Time'],\n",
        "                      session_times[session_times['Page'] == 'Page B']['Time'],\n",
        "                      equal_var=False)\n",
        "print(f\"p-value: {res.pvalue / 2:0.4f}\")"
      ],
      "execution_count": 27,
      "outputs": [
        {
          "output_type": "stream",
          "text": [
            "p-value: 0.1408\n"
          ],
          "name": "stdout"
        }
      ]
    },
    {
      "cell_type": "code",
      "metadata": {
        "colab": {
          "base_uri": "https://localhost:8080/"
        },
        "id": "_up1D2O7RNeI",
        "outputId": "8d47840b-c52c-4725-d7f8-82439609cc5c"
      },
      "source": [
        "tstat, pvalue, df = sm.stats.ttest_ind(\n",
        "    session_times[session_times['Page'] == 'Page A']['Time'],\n",
        "    session_times[session_times['Page'] == 'Page B']['Time'],\n",
        "    usevar='unequal', alternative='smaller')\n",
        "print(f\"p-value: {pvalue:0.4f}\")"
      ],
      "execution_count": 29,
      "outputs": [
        {
          "output_type": "stream",
          "text": [
            "p-value: 0.1408\n"
          ],
          "name": "stdout"
        }
      ]
    },
    {
      "cell_type": "markdown",
      "metadata": {
        "id": "YWvRLcJfR3N8"
      },
      "source": [
        "## ANOVA"
      ]
    },
    {
      "cell_type": "code",
      "metadata": {
        "colab": {
          "base_uri": "https://localhost:8080/",
          "height": 602
        },
        "id": "4to6GaNMRs-4",
        "outputId": "e80dc798-09e1-40f9-c5f5-3b2ce736aae0"
      },
      "source": [
        "four_sessions = pd.read_csv(FOUR_SESSION_CSV)\n",
        "\n",
        "ax = four_sessions.boxplot(by='Page', column='Time', figsize=(10, 10))\n",
        "ax.set_xlabel('Page')\n",
        "ax.set_ylabel('Time (in seconds)')\n",
        "plt.suptitle('')\n",
        "plt.title('')\n",
        "\n",
        "plt.show()"
      ],
      "execution_count": 30,
      "outputs": [
        {
          "output_type": "display_data",
          "data": {
            "image/png": "[encoded data removed]",
            "text/plain": [
              "<Figure size 720x720 with 1 Axes>"
            ]
          },
          "metadata": {
            "tags": [],
            "needs_background": "light"
          }
        }
      ]
    },
    {
      "cell_type": "code",
      "metadata": {
        "id": "xrTGLmR8SSHw"
      },
      "source": [
        ""
      ],
      "execution_count": null,
      "outputs": []
    }
  ]
}