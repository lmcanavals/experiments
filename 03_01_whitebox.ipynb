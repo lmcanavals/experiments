{
  "nbformat": 4,
  "nbformat_minor": 0,
  "metadata": {
    "colab": {
      "name": "03-01-whitebox.ipynb",
      "provenance": [],
      "authorship_tag": "ABX9TyPNpqDtRV0L9P/QhGxnykB1",
      "include_colab_link": true
    },
    "kernelspec": {
      "name": "python3",
      "display_name": "Python 3"
    },
    "language_info": {
      "name": "python"
    }
  },
  "cells": [
    {
      "cell_type": "markdown",
      "metadata": {
        "id": "view-in-github",
        "colab_type": "text"
      },
      "source": [
        "<a href=\"https://colab.research.google.com/github/lmcanavals/experiments/blob/main/03_01_whitebox.ipynb\" target=\"_parent\"><img src=\"https://colab.research.google.com/assets/colab-badge.svg\" alt=\"Open In Colab\"/></a>"
      ]
    },
    {
      "cell_type": "markdown",
      "metadata": {
        "id": "3k2qcd-0Vhgt"
      },
      "source": [
        "# Caja Blanca"
      ]
    },
    {
      "cell_type": "code",
      "metadata": {
        "id": "tl42wi4OVgtJ"
      },
      "source": [
        "def crib(n):                            # T(n) =\n",
        "  primes = []                           #     1\n",
        "  if n >= 2:                            #   1 +\n",
        "    numbers = list(range(n+1))          #     n + 2\n",
        "    for i in range(2, n+1):             #     1 + (n - 1) *\n",
        "      if numbers[i] > 0:                #       2 +\n",
        "        primes.append(i)                #         1\n",
        "        for j in range(i * 2, n+1, i):  #         2 + n/2 *\n",
        "          numbers[j] = -i               #           3\n",
        "        #print(numbers)\n",
        "  return primes"
      ],
      "execution_count": 7,
      "outputs": []
    },
    {
      "cell_type": "markdown",
      "metadata": {
        "id": "6EOhPvk3Vmuu"
      },
      "source": [
        "## Camino 1"
      ]
    },
    {
      "cell_type": "code",
      "metadata": {
        "id": "UnLSEAWaVlV9"
      },
      "source": [
        "assert crib(1) == [], \"malo\"\n",
        "assert crib(0) == []\n",
        "assert crib(-1) == []\n",
        "assert crib(-2) == []\n",
        "assert crib(-3) == []"
      ],
      "execution_count": 8,
      "outputs": []
    },
    {
      "cell_type": "markdown",
      "metadata": {
        "id": "AFyjpG7sV57a"
      },
      "source": [
        "Caminos 2 y 3 no aplican"
      ]
    },
    {
      "cell_type": "markdown",
      "metadata": {
        "id": "iI0OMaP9WIsE"
      },
      "source": [
        "## Camino 4"
      ]
    },
    {
      "cell_type": "code",
      "metadata": {
        "id": "5GSiXllRVxZn"
      },
      "source": [
        "assert crib(2) == [2]"
      ],
      "execution_count": 9,
      "outputs": []
    },
    {
      "cell_type": "markdown",
      "metadata": {
        "id": "EUHmtmvdWK6P"
      },
      "source": [
        "## Camino 5"
      ]
    },
    {
      "cell_type": "code",
      "metadata": {
        "id": "88BDym6gWAKf"
      },
      "source": [
        "assert crib(3) == [2, 3], \"malo\"\n",
        "assert crib(4) == [2, 3]\n",
        "assert crib(5) == [2, 3, 5]\n",
        "assert crib(6) == [2, 3, 5]\n",
        "assert crib(7) == [2, 3, 5, 7]"
      ],
      "execution_count": 10,
      "outputs": []
    },
    {
      "cell_type": "code",
      "metadata": {
        "id": "zaNZX7eAWj8Q"
      },
      "source": [
        ""
      ],
      "execution_count": null,
      "outputs": []
    }
  ]
}