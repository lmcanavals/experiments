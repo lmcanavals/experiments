{
  "nbformat": 4,
  "nbformat_minor": 0,
  "metadata": {
    "colab": {
      "name": "04-01-testing.ipynb",
      "provenance": [],
      "authorship_tag": "ABX9TyNaFAlFSDzIet0W13ociavC",
      "include_colab_link": true
    },
    "kernelspec": {
      "name": "python3",
      "display_name": "Python 3"
    },
    "language_info": {
      "name": "python"
    }
  },
  "cells": [
    {
      "cell_type": "markdown",
      "metadata": {
        "id": "view-in-github",
        "colab_type": "text"
      },
      "source": [
        "<a href=\"https://colab.research.google.com/github/lmcanavals/experiments/blob/main/04_01_testing.ipynb\" target=\"_parent\"><img src=\"https://colab.research.google.com/assets/colab-badge.svg\" alt=\"Open In Colab\"/></a>"
      ]
    },
    {
      "cell_type": "markdown",
      "metadata": {
        "id": "koPuI6EuD8zl"
      },
      "source": [
        "# Python Testing"
      ]
    },
    {
      "cell_type": "code",
      "metadata": {
        "id": "FbxvqrVrD6Fh"
      },
      "source": [
        "assert 5 + 6 == 11"
      ],
      "execution_count": 1,
      "outputs": []
    },
    {
      "cell_type": "code",
      "metadata": {
        "id": "59xw4eY0EEqA"
      },
      "source": [
        "assert True"
      ],
      "execution_count": 2,
      "outputs": []
    },
    {
      "cell_type": "code",
      "metadata": {
        "colab": {
          "base_uri": "https://localhost:8080/",
          "height": 172
        },
        "id": "gwg5c6FVEXat",
        "outputId": "6aabe1a3-2b15-47f4-f903-4a7de407c865"
      },
      "source": [
        "assert False"
      ],
      "execution_count": 3,
      "outputs": [
        {
          "output_type": "error",
          "ename": "AssertionError",
          "evalue": "ignored",
          "traceback": [
            "\u001b[0;31m---------------------------------------------------------------------------\u001b[0m",
            "\u001b[0;31mAssertionError\u001b[0m                            Traceback (most recent call last)",
            "\u001b[0;32m<ipython-input-3-a871fdc9ebee>\u001b[0m in \u001b[0;36m<module>\u001b[0;34m()\u001b[0m\n\u001b[0;32m----> 1\u001b[0;31m \u001b[0;32massert\u001b[0m \u001b[0;32mFalse\u001b[0m\u001b[0;34m\u001b[0m\u001b[0;34m\u001b[0m\u001b[0m\n\u001b[0m",
            "\u001b[0;31mAssertionError\u001b[0m: "
          ]
        }
      ]
    },
    {
      "cell_type": "code",
      "metadata": {
        "colab": {
          "base_uri": "https://localhost:8080/",
          "height": 172
        },
        "id": "inB0Imi3EYr8",
        "outputId": "128c2e78-10fc-4820-dfcf-26715a909348"
      },
      "source": [
        "assert False, \"Should be True\""
      ],
      "execution_count": 4,
      "outputs": [
        {
          "output_type": "error",
          "ename": "AssertionError",
          "evalue": "ignored",
          "traceback": [
            "\u001b[0;31m---------------------------------------------------------------------------\u001b[0m",
            "\u001b[0;31mAssertionError\u001b[0m                            Traceback (most recent call last)",
            "\u001b[0;32m<ipython-input-4-764a0426b62e>\u001b[0m in \u001b[0;36m<module>\u001b[0;34m()\u001b[0m\n\u001b[0;32m----> 1\u001b[0;31m \u001b[0;32massert\u001b[0m \u001b[0;32mFalse\u001b[0m\u001b[0;34m,\u001b[0m \u001b[0;34m\"Should be True\"\u001b[0m\u001b[0;34m\u001b[0m\u001b[0;34m\u001b[0m\u001b[0m\n\u001b[0m",
            "\u001b[0;31mAssertionError\u001b[0m: Should be True"
          ]
        }
      ]
    },
    {
      "cell_type": "markdown",
      "metadata": {
        "id": "yuEnp013E0VJ"
      },
      "source": [
        "## Exploratory testing"
      ]
    },
    {
      "cell_type": "markdown",
      "metadata": {
        "id": "uon8R2RVE4i3"
      },
      "source": [
        "### Debugging"
      ]
    },
    {
      "cell_type": "code",
      "metadata": {
        "id": "swCymPQ2EkjH"
      },
      "source": [
        "import pdb\n",
        "\n",
        "accum = 0\n",
        "n = 5\n",
        "for i in range(1, n+1):\n",
        "  pdb.set_trace()\n",
        "  accum += i\n",
        "\n",
        "assert accum == n*(n+1)/2"
      ],
      "execution_count": null,
      "outputs": []
    },
    {
      "cell_type": "markdown",
      "metadata": {
        "id": "Ehtp-qdCNEvv"
      },
      "source": [
        "`h` for help"
      ]
    },
    {
      "cell_type": "markdown",
      "metadata": {
        "id": "4gCTaaj2RXSt"
      },
      "source": [
        "## Unit Testing"
      ]
    },
    {
      "cell_type": "code",
      "metadata": {
        "colab": {
          "base_uri": "https://localhost:8080/"
        },
        "id": "sYYNRuPcFWU4",
        "outputId": "75c564de-ac64-4725-f2bc-b2326ab15086"
      },
      "source": [
        "%%file test_simple.py\n",
        "def test_simple1():\n",
        "  assert 5 + 6 == 11, \"should be 11\"\n",
        "\n",
        "if __name__ == \"__main__\":\n",
        "  test_simple1()\n",
        "  print(\"Everthing passed\")"
      ],
      "execution_count": 8,
      "outputs": [
        {
          "output_type": "stream",
          "name": "stdout",
          "text": [
            "Writing test_simple.py\n"
          ]
        }
      ]
    },
    {
      "cell_type": "code",
      "metadata": {
        "colab": {
          "base_uri": "https://localhost:8080/"
        },
        "id": "MbMB9kr6SXCM",
        "outputId": "0840c56c-03f8-42ab-eab9-b4ef2620199f"
      },
      "source": [
        "!python test_simple.py"
      ],
      "execution_count": 9,
      "outputs": [
        {
          "output_type": "stream",
          "name": "stdout",
          "text": [
            "Everthing passed\n"
          ]
        }
      ]
    },
    {
      "cell_type": "code",
      "metadata": {
        "colab": {
          "base_uri": "https://localhost:8080/"
        },
        "id": "dRXjMEKvSd9H",
        "outputId": "c5aec68a-f5ce-4953-9771-6952cc450027"
      },
      "source": [
        "%%file test_simple2.py\n",
        "def test_simple2():\n",
        "  assert 5 + 6 == 12, \"should be 11\"\n",
        "\n",
        "if __name__ == \"__main__\":\n",
        "  test_simple2()\n",
        "  print(\"Everthing passed\")"
      ],
      "execution_count": 10,
      "outputs": [
        {
          "output_type": "stream",
          "name": "stdout",
          "text": [
            "Writing test_simple2.py\n"
          ]
        }
      ]
    },
    {
      "cell_type": "code",
      "metadata": {
        "colab": {
          "base_uri": "https://localhost:8080/"
        },
        "id": "PedpWjo7Sky8",
        "outputId": "218cbdb2-8c34-4ff3-84b5-6fc388035065"
      },
      "source": [
        "!python test_simple2.py"
      ],
      "execution_count": 11,
      "outputs": [
        {
          "output_type": "stream",
          "name": "stdout",
          "text": [
            "Traceback (most recent call last):\n",
            "  File \"test_simple2.py\", line 5, in <module>\n",
            "    test_simple2()\n",
            "  File \"test_simple2.py\", line 2, in test_simple2\n",
            "    assert 5 + 6 == 12, \"should be 11\"\n",
            "AssertionError: should be 11\n"
          ]
        }
      ]
    },
    {
      "cell_type": "code",
      "metadata": {
        "colab": {
          "base_uri": "https://localhost:8080/"
        },
        "id": "UQLYl7i6SnDL",
        "outputId": "40986680-89a1-449e-dcba-59214212d532"
      },
      "source": [
        "%%file misfunciones.py\n",
        "def fun1(a, b):\n",
        "  return a + b\n",
        "\n",
        "def fun2(n):\n",
        "  accum = 0\n",
        "  for i in range(1, n+1):\n",
        "    accum += i\n",
        "  return accum"
      ],
      "execution_count": 15,
      "outputs": [
        {
          "output_type": "stream",
          "name": "stdout",
          "text": [
            "Overwriting misfunciones.py\n"
          ]
        }
      ]
    },
    {
      "cell_type": "code",
      "metadata": {
        "colab": {
          "base_uri": "https://localhost:8080/"
        },
        "id": "EpEG3EKYTOAS",
        "outputId": "cd033609-1ba9-4f7c-dc19-5825a6d180a7"
      },
      "source": [
        "%%file test_misfunciones.py\n",
        "import misfunciones as m\n",
        "\n",
        "def test_fun1():\n",
        "  assert m.fun1(5, 6) == 11, \"should be 11\"\n",
        "\n",
        "def test_fun2():\n",
        "  assert m.fun2(100) == 50*101, f\"should be {50*101}\"\n",
        " \n",
        "if __name__ == \"__main__\":\n",
        "  test_fun1()\n",
        "  test_fun2()\n",
        "  print(\"Everthing passed\")"
      ],
      "execution_count": 16,
      "outputs": [
        {
          "output_type": "stream",
          "name": "stdout",
          "text": [
            "Overwriting test_misfunciones.py\n"
          ]
        }
      ]
    },
    {
      "cell_type": "code",
      "metadata": {
        "colab": {
          "base_uri": "https://localhost:8080/"
        },
        "id": "-bsdckD7TzQg",
        "outputId": "8d2feba0-6a3a-4be4-e071-a87fee720def"
      },
      "source": [
        "!python test_misfunciones.py"
      ],
      "execution_count": 17,
      "outputs": [
        {
          "output_type": "stream",
          "name": "stdout",
          "text": [
            "Everthing passed\n"
          ]
        }
      ]
    },
    {
      "cell_type": "markdown",
      "metadata": {
        "id": "t0eyut-lVjPy"
      },
      "source": [
        "## Test Runners"
      ]
    },
    {
      "cell_type": "markdown",
      "metadata": {
        "id": "KE41v2JJVmMN"
      },
      "source": [
        "### unittest"
      ]
    },
    {
      "cell_type": "code",
      "metadata": {
        "colab": {
          "base_uri": "https://localhost:8080/"
        },
        "id": "XHcXExQeU0Mz",
        "outputId": "9a088456-21ab-4e62-b400-931f4e5f1f13"
      },
      "source": [
        "%%file test_misfunciones_uniitest.py\n",
        "import unittest\n",
        "import misfunciones as m\n",
        "\n",
        "class TestMiFunciones(unittest.TestCase):\n",
        "  def test_fun1(self):\n",
        "    self.assertEqual(m.fun1(5, 6), 11, \"should be 11\")\n",
        "\n",
        "  def test_fun2(self):\n",
        "    self.assertEqual(m.fun2(100), 50*101, f\"should be {50*101}\")\n",
        "\n",
        "if __name__ == \"__main__\":\n",
        "  unittest.main()"
      ],
      "execution_count": 27,
      "outputs": [
        {
          "output_type": "stream",
          "name": "stdout",
          "text": [
            "Overwriting test_misfunciones_uniitest.py\n"
          ]
        }
      ]
    },
    {
      "cell_type": "code",
      "metadata": {
        "colab": {
          "base_uri": "https://localhost:8080/"
        },
        "id": "RYqC5YV7WRCF",
        "outputId": "f452fbca-18bf-4da1-c849-a8942b443a3a"
      },
      "source": [
        "!python test_misfunciones_uniitest.py"
      ],
      "execution_count": 28,
      "outputs": [
        {
          "output_type": "stream",
          "name": "stdout",
          "text": [
            "..\n",
            "----------------------------------------------------------------------\n",
            "Ran 2 tests in 0.000s\n",
            "\n",
            "OK\n"
          ]
        }
      ]
    },
    {
      "cell_type": "code",
      "metadata": {
        "id": "Jqxkcb0tWTlD"
      },
      "source": [
        "!pip install nose2"
      ],
      "execution_count": null,
      "outputs": []
    },
    {
      "cell_type": "code",
      "metadata": {
        "colab": {
          "base_uri": "https://localhost:8080/"
        },
        "id": "8q6kOg2ZXwlS",
        "outputId": "085afb72-8bde-483e-b5aa-afb7b07993a2"
      },
      "source": [
        "!python -m nose2"
      ],
      "execution_count": 31,
      "outputs": [
        {
          "output_type": "stream",
          "name": "stdout",
          "text": [
            "..F...\n",
            "======================================================================\n",
            "FAIL: test_simple2.test_simple2\n",
            "----------------------------------------------------------------------\n",
            "Traceback (most recent call last):\n",
            "  File \"/content/test_simple2.py\", line 2, in test_simple2\n",
            "    assert 5 + 6 == 12, \"should be 11\"\n",
            "AssertionError: should be 11\n",
            "\n",
            "----------------------------------------------------------------------\n",
            "Ran 6 tests in 0.001s\n",
            "\n",
            "FAILED (failures=1)\n"
          ]
        }
      ]
    },
    {
      "cell_type": "code",
      "metadata": {
        "id": "JQQVnrKFX4XZ"
      },
      "source": [
        ""
      ],
      "execution_count": null,
      "outputs": []
    }
  ]
}